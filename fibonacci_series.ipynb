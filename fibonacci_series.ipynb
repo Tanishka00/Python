{
 "cells": [
  {
   "cell_type": "markdown",
   "id": "8a8f30b6",
   "metadata": {},
   "source": [
    "# Fibonacci Series"
   ]
  },
  {
   "cell_type": "code",
   "execution_count": null,
   "id": "0b81493c",
   "metadata": {},
   "outputs": [],
   "source": [
    "#Calculating constants of ( Phi and -phi ) of the Binet's Formula for the nth Fibonacci number\n",
    "#Phi=[root(5)+1]/2   = 1·61803 39887 49894 84820......\n",
    "#-phi=[1-root(5)]/2  =-0·61803 39887 49894 84820 .....\n",
    "\n",
    "phi=(1+5**0.5)/2\n",
    "neg_Phi=(1-5**0.5)/2\n",
    "\n",
    "#Creating a function for Binet's Formula(Fib(n)=[Phi^n-(-phi)^n]/root(5))\n",
    "def fib(i):\n",
    "    num=((phi**i)-(neg_Phi**i))/(5**0.5)\n",
    "    num1=round(num)\n",
    "    print(num1)\n",
    "    \n",
    "#Printing the Fibonacci Series starting from 0 to desired value     \n",
    "print('How many numbers do you want in the Series?')\n",
    "a=int(input())\n",
    "print('The Fibonacci series is')\n",
    "for i in range(0,a+1):\n",
    "    fib(i)    \n"
   ]
  },
  {
   "cell_type": "markdown",
   "id": "64204f9e",
   "metadata": {},
   "source": [
    "# Fibonacci Series with a Menu"
   ]
  },
  {
   "cell_type": "code",
   "execution_count": null,
   "id": "6e88a86a",
   "metadata": {},
   "outputs": [],
   "source": [
    "#Calculating constants of ( Phi and -phi ) of the Binet's Formula for the nth Fibonacci number\n",
    "#Phi=[root(5)+1]/2   = 1·61803 39887 49894 84820......\n",
    "#-phi=[1-root(5)]/2  =-0·61803 39887 49894 84820 .....\n",
    "\n",
    "phi=(1+5**0.5)/2\n",
    "neg_Phi=(1-5**0.5)/2\n",
    "\n",
    "#Creating a function for Binet's Formula(Fib(n)=[Phi^n-(-phi)^n]/root(5))\n",
    "def fib(i):\n",
    "    num=((phi**i)-(neg_Phi**i))/(5**0.5)\n",
    "    num1=round(num)\n",
    "    print(num1)\n",
    "\n",
    "#Creating a Menu using While loop    \n",
    "opt=0\n",
    "    \n",
    "while(opt!=4):    \n",
    "    print('Select options')\n",
    "    print('1.Series starting from 0')\n",
    "    print('2.Series in a range')\n",
    "    print('3.Value of a number in Fibonacci series')\n",
    "    print('4.Exit')\n",
    "    opt=int(input())\n",
    "\n",
    "#Printing the Fibonacci Series starting from 0 to desired value     \n",
    "    if (opt==1):\n",
    "        print('How many numbers do you want in the Series?')\n",
    "        a=int(input())\n",
    "        print('The Fibonacci series is')\n",
    "        for i in range(0,a+1):\n",
    "            fib(i)\n",
    "        \n",
    "#Printing the Fibonacci Series from a range            \n",
    "    elif (opt==2):        \n",
    "        print('What is the range of Fibonacci Series?')\n",
    "        a=int(input())\n",
    "        b=int(input())\n",
    "        print ('The Fibonacci series for range ',a,'to',b)\n",
    "\n",
    "        if(a<b): \n",
    "            for i in range(a,b+1):\n",
    "                fib(i)\n",
    "        \n",
    "#Printing the Series in Reverse order as first input value is larger than second value                \n",
    "        else:\n",
    "            for i in range(a,b-1,-1):\n",
    "                fib(i)\n",
    "        \n",
    "#Printing the nth value of Fibonacci Series                 \n",
    "    elif (opt==3):\n",
    "        print('What is the number?')\n",
    "        a=int(input())\n",
    "        print('The value of',a,'in Fibonacci series is')\n",
    "        fib(a)\n",
    "        \n",
    "#Exiting the While loop\n",
    "    elif (opt==4):\n",
    "        print('Exit')\n",
    "        \n",
    "#Case where user inputs values other than the options        \n",
    "    else:\n",
    "        print('Option not available')\n"
   ]
  },
  {
   "cell_type": "code",
   "execution_count": null,
   "id": "fdd9e1e5",
   "metadata": {},
   "outputs": [],
   "source": []
  }
 ],
 "metadata": {
  "kernelspec": {
   "display_name": "Python 3 (ipykernel)",
   "language": "python",
   "name": "python3"
  },
  "language_info": {
   "codemirror_mode": {
    "name": "ipython",
    "version": 3
   },
   "file_extension": ".py",
   "mimetype": "text/x-python",
   "name": "python",
   "nbconvert_exporter": "python",
   "pygments_lexer": "ipython3",
   "version": "3.9.12"
  }
 },
 "nbformat": 4,
 "nbformat_minor": 5
}
